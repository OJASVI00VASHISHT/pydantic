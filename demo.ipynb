{
 "cells": [
  {
   "cell_type": "markdown",
   "id": "909dbd81",
   "metadata": {},
   "source": [
    "In simple terms, a TypedDict is a way to create a template for a Python dictionary. It lets you define what keys should be in a dictionary and what type of value each key should hold.\n",
    "\n",
    "Think of it like a contract or a checklist for a dictionary. For example, if you're working with data about a person, you can define a TypedDict to ensure that every \"person\" dictionary has a name (which must be a string) and an age (which must be an integer).\n",
    "\n",
    "This is a powerful tool for static type checkers (like mypy), which can then check your code for errors. If you try to add a key that's not on your checklist or assign a value of the wrong type, the checker will flag an error, helping you catch bugs before you even run your program. At runtime, a TypedDict is just a normal dictionary."
   ]
  },
  {
   "cell_type": "code",
   "execution_count": null,
   "id": "be3c8fa1",
   "metadata": {
    "vscode": {
     "languageId": "plaintext"
    }
   },
   "outputs": [],
   "source": [
    "from langchain_groq import ChatGroq\n",
    "from dotenv import load_dotenv\n",
    "from typing import TypedDict, Annotated, Optional, Literal\n",
    "\n",
    "load_dotenv()\n",
    "\n",
    "model = ChatGroq(model = \"llama3-8b-8192\")  #llama3-8b-8192\n",
    "\n",
    "class Review(TypedDict):\n",
    "    key_themes: Annotated[list[str], \"Write down all the key themes discussed in the review in a list\"]\n",
    "    summary: Annotated[str, \"A brief summary of the review\"]\n",
    "    sentiment: Annotated[Literal[\"pos\", \"neg\"], \"Return sentiment of the review either negative, positive or neutral\"]\n",
    "    pros: Annotated[Optional[list[str]], \"Write down all the pros inside a list\"]\n",
    "    cons: Annotated[Optional[list[str]], \"Write down all the cons inside a list\"]\n",
    "    name: Annotated[Optional[str], \"Write the name of the reviewer\"]\n",
    "\n",
    "\n",
    "structured_model = model.with_structured_output(Review)\n",
    "result = structured_model.invoke(\"\"\"I recently got my hands on the iPhone 14 Plus, and it's a fantastic device, especially for a non-Pro model. The large 6.7-inch Super Retina XDR display is vibrant and perfect for watching videos or playing games, and the A15 Bionic chip handles everything with ease. I can switch between apps and multitask without a single stutter.\n",
    "\n",
    "The battery life is what really stands out—it easily lasts me a full two days with moderate use, which is a game-changer. The 12MP main camera also produces excellent photos, with great color and detail in good lighting. The new autofocus on the front-facing camera is a welcome upgrade for better selfies.\n",
    "\n",
    "However, it feels a bit dated in some key areas. Sticking with a 60Hz refresh rate is disappointing, and the notch at the top now feels huge compared to what's available on other phones. The base model still uses a Lightning port, which is a bit of a hassle when most other devices have moved to USB-C.\n",
    "\n",
    "Pros:\n",
    "Excellent battery life\n",
    "Large, vibrant Super Retina XDR display\n",
    "Great performance with the A15 Bionic chip\n",
    "The new autofocus on the selfie camera is a great touch\n",
    "\n",
    "Written by Ojasvi Vashisht\n",
    "\"\"\")\n",
    "\n",
    "print(result)\n"
   ]
  },
  {
   "cell_type": "markdown",
   "id": "51d212e5",
   "metadata": {},
   "source": [
    "Pydantic is a Python library that provides data validation and settings management using Python's type hints. It allows you to define a data schema using a class, and Pydantic will automatically validate the incoming data at runtime, ensuring it conforms to the specified types and constraints."
   ]
  },
  {
   "cell_type": "code",
   "execution_count": null,
   "id": "6b3dd1d1",
   "metadata": {
    "vscode": {
     "languageId": "plaintext"
    }
   },
   "outputs": [],
   "source": [
    "from pydantic import BaseModel\n",
    "class Student(BaseModel):\n",
    "    name: str\n",
    "    age: int\n",
    "\n",
    "new_student = {'name':32}\n",
    "\n",
    "student = Student(**new_student)\n",
    "\n",
    "print(student)"
   ]
  },
  {
   "cell_type": "markdown",
   "id": "38a3226a",
   "metadata": {},
   "source": [
    "In this code snippet error occurs since we have mentioned name as string value so pydantic will only accept a string as input\n",
    "also since age is not mentioned but it is a compulsary field it will also create an error"
   ]
  },
  {
   "cell_type": "code",
   "execution_count": null,
   "id": "823e8321",
   "metadata": {
    "vscode": {
     "languageId": "plaintext"
    }
   },
   "outputs": [],
   "source": [
    "from pydantic import BaseModel\n",
    "class Student(BaseModel):\n",
    "    name: str\n",
    "    age: int\n",
    "\n",
    "new_student = {'name':'ojasvi','age':32}\n",
    "\n",
    "student = Student(**new_student)\n",
    "\n",
    "print(student)"
   ]
  },
  {
   "cell_type": "markdown",
   "id": "7dbbf760",
   "metadata": {},
   "source": [
    "This code snippet gives correct output"
   ]
  },
  {
   "cell_type": "code",
   "execution_count": null,
   "id": "346bd17e",
   "metadata": {
    "vscode": {
     "languageId": "plaintext"
    }
   },
   "outputs": [],
   "source": [
    "from typing import Optional\n",
    "from pydantic import BaseModel\n",
    "class Student(BaseModel):\n",
    "    name: str\n",
    "    age: Optional[int]= None\n",
    "\n",
    "\n",
    "new_student = {'name':'ojasvi'}\n",
    "\n",
    "student = Student(**new_student)\n",
    "\n",
    "print(student)"
   ]
  },
  {
   "cell_type": "markdown",
   "id": "597ff3d5",
   "metadata": {},
   "source": [
    "Optional from typing helps in cases when one or other field is not specified and its value is taken as predefined value"
   ]
  }
 ],
 "metadata": {
  "language_info": {
   "name": "python"
  }
 },
 "nbformat": 4,
 "nbformat_minor": 5
}
